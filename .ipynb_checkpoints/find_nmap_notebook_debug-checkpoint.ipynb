{
 "cells": [
  {
   "cell_type": "code",
   "execution_count": 1,
   "metadata": {},
   "outputs": [],
   "source": [
    "import math\n",
    "import numpy as np\n",
    "import matplotlib.pyplot as plt\n",
    "import scipy.io as spio\n",
    "from scipy.optimize import fsolve, root\n",
    "import copy\n",
    "pi = math.pi"
   ]
  },
  {
   "cell_type": "code",
   "execution_count": 148,
   "metadata": {},
   "outputs": [],
   "source": [
    "### data init for measurement simulation\n",
    "f = spio.loadmat('sphere_render/dm_and_N.mat', squeeze_me=True) \n",
    "dm = f['dm'] \n",
    "\n",
    "ymax, xmax = dm.shape\n",
    "\n",
    "N = f['N']\n",
    "phis = np.arctan2(N[:,:,1], N[:,:,0])\n",
    "thetas = np.arccos(N[:,:,2])\n",
    "\n",
    "env1 = np.load(\"sphere_render/ball_glacier.npy\")\n",
    "env2 = np.load(\"sphere_render/ball_grace_new.npy\")\n",
    "\n",
    "# setting incident light properties\n",
    "Iups = env2\n",
    "Ips = env1\n",
    "\n",
    "Iups[Iups>4] = 4\n",
    "Iups = np.sqrt(np.sqrt(Iups))\n",
    "Iups[np.isnan(dm)] = 0\n",
    "\n",
    "Ips = np.sqrt(Ips)\n",
    "Ips[np.isnan(dm)] = 0\n",
    "\n",
    "psis = np.zeros((ymax, xmax))\n",
    "psis = (Ips + np.sqrt(thetas))**2\n",
    "psis = psis * pi / psis.max()\n",
    "\n",
    "# setting ball properties n2 = n^2\n",
    "n2 = 2.56\n",
    "\n",
    "# simulating polarizer measurements\n",
    "angles = [0, pi/6, pi/3, pi/2, 2*pi/3, 5*pi/6]\n",
    "I = np.zeros((ymax, xmax, len(angles)))\n",
    "\n",
    "xmap = np.zeros((200,200))\n",
    "ymap = np.zeros((200,200))"
   ]
  },
  {
   "cell_type": "code",
   "execution_count": 149,
   "metadata": {},
   "outputs": [],
   "source": [
    "for x in range(0, xmax):\n",
    "    for y in range (0, ymax):\n",
    "        Iup = Iups[y,x]\n",
    "        Ip = Ips[y,x]\n",
    "        ps = psis[y,x]\n",
    "        sps2 = (math.sin(ps))**2\n",
    "        cps2 = (math.cos(ps))**2\n",
    "        tps = math.tan(ps)\n",
    "        th = thetas[y,x]\n",
    "        ph = phis[y,x]\n",
    "        if (~np.isnan(dm[y,x])):\n",
    "            thmap = int(math.floor(th*200/(pi/2+0.1)))\n",
    "            phmap = int(math.floor((ph+pi)*200/(2*pi+0.1)))\n",
    "            xmap[thmap,phmap] = x\n",
    "            ymap[thmap,phmap] = y\n",
    "        else:\n",
    "            for i, angle in enumerate(angles):\n",
    "                I[y,x,i] = 0\n",
    "            continue\n",
    "        cth = math.cos(th)\n",
    "        sth = math.sin(th)\n",
    "        Rs = ((cth - math.sqrt(n2 - sth**2))/(cth + math.sqrt(n2 - sth**2)))**2\n",
    "        Rp = ((-n2*cth + math.sqrt(n2 - sth**2))/(n2*cth + math.sqrt(n2 - sth**2)))**2\n",
    "\n",
    "        for i, angle in enumerate(angles):\n",
    "            I[y,x,i] = (Iup/2) * (Rs*(math.sin(ph - angle))**2 + Rp*(1 - (math.sin(ph - angle))**2)) + Ip*(Rp*cps2 + Rs*sps2)*(math.cos(math.atan(tps*math.sqrt(Rp/Rs)) + ph - angle))**2\n"
   ]
  },
  {
   "cell_type": "code",
   "execution_count": 41,
   "metadata": {},
   "outputs": [
    {
     "name": "stdout",
     "output_type": "stream",
     "text": [
      "-1.9660699254406884 0.7722915435536322\n"
     ]
    }
   ],
   "source": [
    "x0=220\n",
    "y0=320\n",
    "ph0 = phis[y0,x0]\n",
    "th0 = thetas[y0,x0]\n",
    "print(ph0,th0)"
   ]
  },
  {
   "cell_type": "code",
   "execution_count": 143,
   "metadata": {},
   "outputs": [],
   "source": [
    "def system_test (p, *args):\n",
    "    angles = [0, pi/6, pi/3, pi/2, 2*pi/3, 5*pi/6]\n",
    "    ph, th, n = p\n",
    "#     I = args\n",
    "    thmap = int(math.floor(th*xmap.shape[0]/(pi/2+0.1)))\n",
    "    phmap = int(math.floor((ph+pi)*xmap.shape[1]/(2*pi+0.1)))\n",
    "    if (0<thmap<200) and (0<phmap<200):\n",
    "        x = int(xmap[thmap,phmap])\n",
    "        y = int(ymap[thmap,phmap])\n",
    "    else:\n",
    "        x = y = 0\n",
    "\n",
    "\n",
    "    Iup = Iups[y,x]\n",
    "    Ip = Ips[y,x]\n",
    "    ps = psis[y,x]\n",
    "#     Ii = I[y,x,:].flatten()\n",
    "#     print (y,x,Iup, Ip, ps, Ii)\n",
    "#     print (Ii[0])\n",
    "    if (np.isnan(dm[y,x])) or ((max(Ii)-min(Ii))<0.001):\n",
    "        return (100, 100, 100, 100, 100, 100)\n",
    "    return (\n",
    "        (Iup/2) * (((((math.cos(th)) - math.sqrt(n**2 - (math.sin(th))**2))/((math.cos(th)) + math.sqrt(n**2 - (math.sin(th))**2)))**2)*(math.sin(ph - angles[0]))**2 + (((-n**2*(math.cos(th)) + math.sqrt(n**2 - (math.sin(th))**2))/(n**2*(math.cos(th)) + math.sqrt(n**2 - (math.sin(th))**2)))**2)*(1 - (math.sin(ph - angles[0]))**2)) + Ip*((((-n**2*(math.cos(th)) + math.sqrt(n**2 - (math.sin(th))**2))/(n**2*(math.cos(th)) + math.sqrt(n**2 - (math.sin(th))**2)))**2)*((math.cos(ps))**2) + ((((math.cos(th)) - math.sqrt(n**2 - (math.sin(th))**2))/((math.cos(th)) + math.sqrt(n**2 - (math.sin(th))**2)))**2)*((math.sin(ps))**2))*(math.cos(math.atan((math.tan(ps))*math.sqrt((((-n**2*(math.cos(th)) + math.sqrt(n**2 - (math.sin(th))**2))/(n**2*(math.cos(th)) + math.sqrt(n**2 - (math.sin(th))**2)))**2)/((((math.cos(th)) - math.sqrt(n**2 - (math.sin(th))**2))/((math.cos(th)) + math.sqrt(n**2 - (math.sin(th))**2)))**2))) + ph - angles[0]))**2 - Ii[0],\n",
    "        (Iup/2) * (((((math.cos(th)) - math.sqrt(n**2 - (math.sin(th))**2))/((math.cos(th)) + math.sqrt(n**2 - (math.sin(th))**2)))**2)*(math.sin(ph - angles[1]))**2 + (((-n**2*(math.cos(th)) + math.sqrt(n**2 - (math.sin(th))**2))/(n**2*(math.cos(th)) + math.sqrt(n**2 - (math.sin(th))**2)))**2)*(1 - (math.sin(ph - angles[1]))**2)) + Ip*((((-n**2*(math.cos(th)) + math.sqrt(n**2 - (math.sin(th))**2))/(n**2*(math.cos(th)) + math.sqrt(n**2 - (math.sin(th))**2)))**2)*((math.cos(ps))**2) + ((((math.cos(th)) - math.sqrt(n**2 - (math.sin(th))**2))/((math.cos(th)) + math.sqrt(n**2 - (math.sin(th))**2)))**2)*((math.sin(ps))**2))*(math.cos(math.atan((math.tan(ps))*math.sqrt((((-n**2*(math.cos(th)) + math.sqrt(n**2 - (math.sin(th))**2))/(n**2*(math.cos(th)) + math.sqrt(n**2 - (math.sin(th))**2)))**2)/((((math.cos(th)) - math.sqrt(n**2 - (math.sin(th))**2))/((math.cos(th)) + math.sqrt(n**2 - (math.sin(th))**2)))**2))) + ph - angles[1]))**2 - Ii[1],\n",
    "        (Iup/2) * (((((math.cos(th)) - math.sqrt(n**2 - (math.sin(th))**2))/((math.cos(th)) + math.sqrt(n**2 - (math.sin(th))**2)))**2)*(math.sin(ph - angles[2]))**2 + (((-n**2*(math.cos(th)) + math.sqrt(n**2 - (math.sin(th))**2))/(n**2*(math.cos(th)) + math.sqrt(n**2 - (math.sin(th))**2)))**2)*(1 - (math.sin(ph - angles[2]))**2)) + Ip*((((-n**2*(math.cos(th)) + math.sqrt(n**2 - (math.sin(th))**2))/(n**2*(math.cos(th)) + math.sqrt(n**2 - (math.sin(th))**2)))**2)*((math.cos(ps))**2) + ((((math.cos(th)) - math.sqrt(n**2 - (math.sin(th))**2))/((math.cos(th)) + math.sqrt(n**2 - (math.sin(th))**2)))**2)*((math.sin(ps))**2))*(math.cos(math.atan((math.tan(ps))*math.sqrt((((-n**2*(math.cos(th)) + math.sqrt(n**2 - (math.sin(th))**2))/(n**2*(math.cos(th)) + math.sqrt(n**2 - (math.sin(th))**2)))**2)/((((math.cos(th)) - math.sqrt(n**2 - (math.sin(th))**2))/((math.cos(th)) + math.sqrt(n**2 - (math.sin(th))**2)))**2))) + ph - angles[2]))**2 - Ii[2],\n",
    "        (Iup/2) * (((((math.cos(th)) - math.sqrt(n**2 - (math.sin(th))**2))/((math.cos(th)) + math.sqrt(n**2 - (math.sin(th))**2)))**2)*(math.sin(ph - angles[3]))**2 + (((-n**2*(math.cos(th)) + math.sqrt(n**2 - (math.sin(th))**2))/(n**2*(math.cos(th)) + math.sqrt(n**2 - (math.sin(th))**2)))**2)*(1 - (math.sin(ph - angles[3]))**2)) + Ip*((((-n**2*(math.cos(th)) + math.sqrt(n**2 - (math.sin(th))**2))/(n**2*(math.cos(th)) + math.sqrt(n**2 - (math.sin(th))**2)))**2)*((math.cos(ps))**2) + ((((math.cos(th)) - math.sqrt(n**2 - (math.sin(th))**2))/((math.cos(th)) + math.sqrt(n**2 - (math.sin(th))**2)))**2)*((math.sin(ps))**2))*(math.cos(math.atan((math.tan(ps))*math.sqrt((((-n**2*(math.cos(th)) + math.sqrt(n**2 - (math.sin(th))**2))/(n**2*(math.cos(th)) + math.sqrt(n**2 - (math.sin(th))**2)))**2)/((((math.cos(th)) - math.sqrt(n**2 - (math.sin(th))**2))/((math.cos(th)) + math.sqrt(n**2 - (math.sin(th))**2)))**2))) + ph - angles[3]))**2 - Ii[3],\n",
    "        (Iup/2) * (((((math.cos(th)) - math.sqrt(n**2 - (math.sin(th))**2))/((math.cos(th)) + math.sqrt(n**2 - (math.sin(th))**2)))**2)*(math.sin(ph - angles[4]))**2 + (((-n**2*(math.cos(th)) + math.sqrt(n**2 - (math.sin(th))**2))/(n**2*(math.cos(th)) + math.sqrt(n**2 - (math.sin(th))**2)))**2)*(1 - (math.sin(ph - angles[4]))**2)) + Ip*((((-n**2*(math.cos(th)) + math.sqrt(n**2 - (math.sin(th))**2))/(n**2*(math.cos(th)) + math.sqrt(n**2 - (math.sin(th))**2)))**2)*((math.cos(ps))**2) + ((((math.cos(th)) - math.sqrt(n**2 - (math.sin(th))**2))/((math.cos(th)) + math.sqrt(n**2 - (math.sin(th))**2)))**2)*((math.sin(ps))**2))*(math.cos(math.atan((math.tan(ps))*math.sqrt((((-n**2*(math.cos(th)) + math.sqrt(n**2 - (math.sin(th))**2))/(n**2*(math.cos(th)) + math.sqrt(n**2 - (math.sin(th))**2)))**2)/((((math.cos(th)) - math.sqrt(n**2 - (math.sin(th))**2))/((math.cos(th)) + math.sqrt(n**2 - (math.sin(th))**2)))**2))) + ph - angles[4]))**2 - Ii[4],\n",
    "        (Iup/2) * (((((math.cos(th)) - math.sqrt(n**2 - (math.sin(th))**2))/((math.cos(th)) + math.sqrt(n**2 - (math.sin(th))**2)))**2)*(math.sin(ph - angles[5]))**2 + (((-n**2*(math.cos(th)) + math.sqrt(n**2 - (math.sin(th))**2))/(n**2*(math.cos(th)) + math.sqrt(n**2 - (math.sin(th))**2)))**2)*(1 - (math.sin(ph - angles[5]))**2)) + Ip*((((-n**2*(math.cos(th)) + math.sqrt(n**2 - (math.sin(th))**2))/(n**2*(math.cos(th)) + math.sqrt(n**2 - (math.sin(th))**2)))**2)*((math.cos(ps))**2) + ((((math.cos(th)) - math.sqrt(n**2 - (math.sin(th))**2))/((math.cos(th)) + math.sqrt(n**2 - (math.sin(th))**2)))**2)*((math.sin(ps))**2))*(math.cos(math.atan((math.tan(ps))*math.sqrt((((-n**2*(math.cos(th)) + math.sqrt(n**2 - (math.sin(th))**2))/(n**2*(math.cos(th)) + math.sqrt(n**2 - (math.sin(th))**2)))**2)/((((math.cos(th)) - math.sqrt(n**2 - (math.sin(th))**2))/((math.cos(th)) + math.sqrt(n**2 - (math.sin(th))**2)))**2))) + ph - angles[5]))**2 - Ii[5]\n",
    "    )"
   ]
  },
  {
   "cell_type": "code",
   "execution_count": 151,
   "metadata": {},
   "outputs": [],
   "source": [
    "# going through all angles with fixed n\n",
    "\n",
    "n = 1.6\n",
    "Ii = I[y0,x0,:].flatten()\n",
    "sz = 1000\n",
    "\n",
    "res = np.zeros((sz, sz))\n",
    "\n",
    "psj = -pi\n",
    "for ii in range(0,sz):\n",
    "    psj += 2*pi/sz\n",
    "    thj = 0\n",
    "    for jj in range(0,sz):\n",
    "        thj += (pi/2)/sz\n",
    "        res1 = system_test((psj, thj, n), (Ii))\n",
    "        res1 = [abs(xx) for xx in res1]\n",
    "        res[ii, jj] = sum(res1)\n",
    "        "
   ]
  },
  {
   "cell_type": "code",
   "execution_count": 142,
   "metadata": {},
   "outputs": [
    {
     "name": "stdout",
     "output_type": "stream",
     "text": [
      "311 303 1.0 0.0 0.0 [0.04902604 0.02529965 0.00804397 0.01451468 0.03824107 0.05549675]\n",
      "0.0490260404826867\n",
      "(-0.01129606741690519, 0.03511733110311392, 0.04841031625254462, 0.015289902881956214, -0.031123495638062864, -0.0444164807874936)\n",
      "0.18565359408007642\n"
     ]
    }
   ],
   "source": [
    "pss = -pi + 364*2*pi/sz\n",
    "ths = 525*(pi/2)/sz\n",
    "res1 = system_test((pss, ths, n), (Ii))\n",
    "print(res1)\n",
    "res1 = [abs(xx) for xx in res1]\n",
    "res = sum(res1)\n",
    "print (res)"
   ]
  },
  {
   "cell_type": "code",
   "execution_count": 152,
   "metadata": {},
   "outputs": [
    {
     "data": {
      "image/png": "[encoded data removed]",
      "text/plain": [
       "<matplotlib.figure.Figure at 0x7f9ccb927fd0>"
      ]
     },
     "metadata": {},
     "output_type": "display_data"
    }
   ],
   "source": [
    "plt.figure(figsize=(10,10))\n",
    "plt.imshow(res)\n",
    "plt.colorbar()\n",
    "plt.clim(0,0.01)\n",
    "plt.show()"
   ]
  },
  {
   "cell_type": "code",
   "execution_count": 153,
   "metadata": {},
   "outputs": [
    {
     "name": "stdout",
     "output_type": "stream",
     "text": [
      "(186, 491) 8.31241047196357e-05\n",
      "(-1.9729201864543902, 0.7712609964562943)\n",
      "-1.9660699254406884 0.7722915435536322\n",
      "(180, 460) 0.008161481469555445\n"
     ]
    }
   ],
   "source": [
    "ind = np.unravel_index(np.argmin(res, axis=None), res.shape)\n",
    "print(ind, res[ind])\n",
    "print (indtoangle(ind[0], ind[1]))\n",
    "print (ph0,th0)\n",
    "ff = angletoind(ph0,th0)\n",
    "print (ff, res[ff[0], ff[1]])"
   ]
  },
  {
   "cell_type": "code",
   "execution_count": null,
   "metadata": {},
   "outputs": [],
   "source": [
    "def pied (x):\n",
    "    while x>pi:\n",
    "        x -= pi\n",
    "    return (x)\n",
    "\n",
    "def pi2ed (x):\n",
    "    while x>pi/2:\n",
    "        x -= pi/2\n",
    "    return (x)\n",
    "\n",
    "data = np.load(\"sphere_render/meas_simulation.npz\")\n",
    "Is = data['I']\n",
    "Iups = data['Iups']\n",
    "Ips = data['Ips']\n",
    "psis = data['psis']\n",
    "xmap = data['xmap']\n",
    "ymap = data['ymap']\n",
    "phis0 = data['phis']\n",
    "thetas0 = data['thetas']\n",
    "dm = data['dm']\n",
    "\n",
    "ymax, xmax, imax = Is.shape\n",
    "\n",
    "phis = np.zeros((ymax,xmax))\n",
    "thetas = np.zeros((ymax,xmax))\n",
    "ns = np.zeros((ymax,xmax))\n",
    "\n",
    "ph = 1\n",
    "th = 1\n",
    "n = 1.6\n",
    "kol = 0\n",
    "fal = 0"
   ]
  },
  {
   "cell_type": "code",
   "execution_count": 17,
   "metadata": {},
   "outputs": [],
   "source": [
    "def nearest_nonzero_idx(a,x,y):\n",
    "    idx = np.argwhere(a)\n",
    "    return idx[((idx - [x,y])**2).sum(1).argmin()]\n",
    "\n",
    "def fill_with_neasest(ymap):\n",
    "    a = copy.deepcopy(ymap)\n",
    "    for y in range (0, ymap.shape[0]):\n",
    "        for x in range(0,ymap.shape[0]):\n",
    "            if a[y,x] == 0:\n",
    "                y1, x1 = nearest_nonzero_idx(a, y, x)\n",
    "                a[y,x] = a[y1,x1]\n",
    "    return a"
   ]
  },
  {
   "cell_type": "code",
   "execution_count": 36,
   "metadata": {},
   "outputs": [],
   "source": [
    "def indtoangle (psj, thj):\n",
    "    return (psj*2*pi/1000 - pi, thj*(pi/2)/1000)\n",
    "\n",
    "def angletoind (ph, th):\n",
    "    thmap = int(math.floor(th*xmap.shape[0]/(pi/2+0.1)))\n",
    "    phmap = int(math.floor((ph+pi)*xmap.shape[1]/(2*pi+0.1)))\n",
    "    return (phmap*5, thmap*5)"
   ]
  },
  {
   "cell_type": "code",
   "execution_count": 38,
   "metadata": {},
   "outputs": [],
   "source": [
    "def system (p, *args):\n",
    "    angles = [0, pi/6, pi/3, pi/2, 2*pi/3, 5*pi/6]\n",
    "    ph, th, n = p\n",
    "    I = args\n",
    "    thmap = int(math.floor(th*xmap.shape[0]/(pi/2+0.1)))\n",
    "    phmap = int(math.floor((ph+pi)*xmap.shape[1]/(2*pi+0.1)))\n",
    "    if (0<thmap<200) and (0<phmap<200):\n",
    "        x = int(xmap[thmap,phmap])\n",
    "        y = int(ymap[thmap,phmap])\n",
    "    else:\n",
    "        x = y = 0\n",
    "#     plt.imshow(psis)\n",
    "#     plt.colorbar()\n",
    "#     plt.show()\n",
    "#     print (y, x)\n",
    "#     y = 310\n",
    "#     x = 310\n",
    "    Iup = Iups[y,x]\n",
    "    Ip = Ips[y,x]\n",
    "    ps = psis[y,x]\n",
    "    I = Is[y,x,:].flatten()\n",
    "#     print (Iup, Ip, ps, I)\n",
    "#     if (Iup==0) or (Ip == 0):\n",
    "#         return (100, 100, 100, 100, 100, 100)\n",
    "    return (\n",
    "        (Iup/2) * (((((math.cos(th)) - math.sqrt(n**2 - (math.sin(th))**2))/((math.cos(th)) + math.sqrt(n**2 - (math.sin(th))**2)))**2)*(math.sin(ph - angles[0]))**2 + (((-n**2*(math.cos(th)) + math.sqrt(n**2 - (math.sin(th))**2))/(n**2*(math.cos(th)) + math.sqrt(n**2 - (math.sin(th))**2)))**2)*(1 - (math.sin(ph - angles[0]))**2)) + Ip*((((-n**2*(math.cos(th)) + math.sqrt(n**2 - (math.sin(th))**2))/(n**2*(math.cos(th)) + math.sqrt(n**2 - (math.sin(th))**2)))**2)*((math.cos(ps))**2) + ((((math.cos(th)) - math.sqrt(n**2 - (math.sin(th))**2))/((math.cos(th)) + math.sqrt(n**2 - (math.sin(th))**2)))**2)*((math.sin(ps))**2))*(math.cos(math.atan((math.tan(ps))*math.sqrt((((-n**2*(math.cos(th)) + math.sqrt(n**2 - (math.sin(th))**2))/(n**2*(math.cos(th)) + math.sqrt(n**2 - (math.sin(th))**2)))**2)/((((math.cos(th)) - math.sqrt(n**2 - (math.sin(th))**2))/((math.cos(th)) + math.sqrt(n**2 - (math.sin(th))**2)))**2))) + ph - angles[0]))**2 - I[0],\n",
    "        (Iup/2) * (((((math.cos(th)) - math.sqrt(n**2 - (math.sin(th))**2))/((math.cos(th)) + math.sqrt(n**2 - (math.sin(th))**2)))**2)*(math.sin(ph - angles[1]))**2 + (((-n**2*(math.cos(th)) + math.sqrt(n**2 - (math.sin(th))**2))/(n**2*(math.cos(th)) + math.sqrt(n**2 - (math.sin(th))**2)))**2)*(1 - (math.sin(ph - angles[1]))**2)) + Ip*((((-n**2*(math.cos(th)) + math.sqrt(n**2 - (math.sin(th))**2))/(n**2*(math.cos(th)) + math.sqrt(n**2 - (math.sin(th))**2)))**2)*((math.cos(ps))**2) + ((((math.cos(th)) - math.sqrt(n**2 - (math.sin(th))**2))/((math.cos(th)) + math.sqrt(n**2 - (math.sin(th))**2)))**2)*((math.sin(ps))**2))*(math.cos(math.atan((math.tan(ps))*math.sqrt((((-n**2*(math.cos(th)) + math.sqrt(n**2 - (math.sin(th))**2))/(n**2*(math.cos(th)) + math.sqrt(n**2 - (math.sin(th))**2)))**2)/((((math.cos(th)) - math.sqrt(n**2 - (math.sin(th))**2))/((math.cos(th)) + math.sqrt(n**2 - (math.sin(th))**2)))**2))) + ph - angles[1]))**2 - I[1],\n",
    "        (Iup/2) * (((((math.cos(th)) - math.sqrt(n**2 - (math.sin(th))**2))/((math.cos(th)) + math.sqrt(n**2 - (math.sin(th))**2)))**2)*(math.sin(ph - angles[2]))**2 + (((-n**2*(math.cos(th)) + math.sqrt(n**2 - (math.sin(th))**2))/(n**2*(math.cos(th)) + math.sqrt(n**2 - (math.sin(th))**2)))**2)*(1 - (math.sin(ph - angles[2]))**2)) + Ip*((((-n**2*(math.cos(th)) + math.sqrt(n**2 - (math.sin(th))**2))/(n**2*(math.cos(th)) + math.sqrt(n**2 - (math.sin(th))**2)))**2)*((math.cos(ps))**2) + ((((math.cos(th)) - math.sqrt(n**2 - (math.sin(th))**2))/((math.cos(th)) + math.sqrt(n**2 - (math.sin(th))**2)))**2)*((math.sin(ps))**2))*(math.cos(math.atan((math.tan(ps))*math.sqrt((((-n**2*(math.cos(th)) + math.sqrt(n**2 - (math.sin(th))**2))/(n**2*(math.cos(th)) + math.sqrt(n**2 - (math.sin(th))**2)))**2)/((((math.cos(th)) - math.sqrt(n**2 - (math.sin(th))**2))/((math.cos(th)) + math.sqrt(n**2 - (math.sin(th))**2)))**2))) + ph - angles[2]))**2 - I[2],\n",
    "        (Iup/2) * (((((math.cos(th)) - math.sqrt(n**2 - (math.sin(th))**2))/((math.cos(th)) + math.sqrt(n**2 - (math.sin(th))**2)))**2)*(math.sin(ph - angles[3]))**2 + (((-n**2*(math.cos(th)) + math.sqrt(n**2 - (math.sin(th))**2))/(n**2*(math.cos(th)) + math.sqrt(n**2 - (math.sin(th))**2)))**2)*(1 - (math.sin(ph - angles[3]))**2)) + Ip*((((-n**2*(math.cos(th)) + math.sqrt(n**2 - (math.sin(th))**2))/(n**2*(math.cos(th)) + math.sqrt(n**2 - (math.sin(th))**2)))**2)*((math.cos(ps))**2) + ((((math.cos(th)) - math.sqrt(n**2 - (math.sin(th))**2))/((math.cos(th)) + math.sqrt(n**2 - (math.sin(th))**2)))**2)*((math.sin(ps))**2))*(math.cos(math.atan((math.tan(ps))*math.sqrt((((-n**2*(math.cos(th)) + math.sqrt(n**2 - (math.sin(th))**2))/(n**2*(math.cos(th)) + math.sqrt(n**2 - (math.sin(th))**2)))**2)/((((math.cos(th)) - math.sqrt(n**2 - (math.sin(th))**2))/((math.cos(th)) + math.sqrt(n**2 - (math.sin(th))**2)))**2))) + ph - angles[3]))**2 - I[3],\n",
    "        (Iup/2) * (((((math.cos(th)) - math.sqrt(n**2 - (math.sin(th))**2))/((math.cos(th)) + math.sqrt(n**2 - (math.sin(th))**2)))**2)*(math.sin(ph - angles[4]))**2 + (((-n**2*(math.cos(th)) + math.sqrt(n**2 - (math.sin(th))**2))/(n**2*(math.cos(th)) + math.sqrt(n**2 - (math.sin(th))**2)))**2)*(1 - (math.sin(ph - angles[4]))**2)) + Ip*((((-n**2*(math.cos(th)) + math.sqrt(n**2 - (math.sin(th))**2))/(n**2*(math.cos(th)) + math.sqrt(n**2 - (math.sin(th))**2)))**2)*((math.cos(ps))**2) + ((((math.cos(th)) - math.sqrt(n**2 - (math.sin(th))**2))/((math.cos(th)) + math.sqrt(n**2 - (math.sin(th))**2)))**2)*((math.sin(ps))**2))*(math.cos(math.atan((math.tan(ps))*math.sqrt((((-n**2*(math.cos(th)) + math.sqrt(n**2 - (math.sin(th))**2))/(n**2*(math.cos(th)) + math.sqrt(n**2 - (math.sin(th))**2)))**2)/((((math.cos(th)) - math.sqrt(n**2 - (math.sin(th))**2))/((math.cos(th)) + math.sqrt(n**2 - (math.sin(th))**2)))**2))) + ph - angles[4]))**2 - I[4],\n",
    "        (Iup/2) * (((((math.cos(th)) - math.sqrt(n**2 - (math.sin(th))**2))/((math.cos(th)) + math.sqrt(n**2 - (math.sin(th))**2)))**2)*(math.sin(ph - angles[5]))**2 + (((-n**2*(math.cos(th)) + math.sqrt(n**2 - (math.sin(th))**2))/(n**2*(math.cos(th)) + math.sqrt(n**2 - (math.sin(th))**2)))**2)*(1 - (math.sin(ph - angles[5]))**2)) + Ip*((((-n**2*(math.cos(th)) + math.sqrt(n**2 - (math.sin(th))**2))/(n**2*(math.cos(th)) + math.sqrt(n**2 - (math.sin(th))**2)))**2)*((math.cos(ps))**2) + ((((math.cos(th)) - math.sqrt(n**2 - (math.sin(th))**2))/((math.cos(th)) + math.sqrt(n**2 - (math.sin(th))**2)))**2)*((math.sin(ps))**2))*(math.cos(math.atan((math.tan(ps))*math.sqrt((((-n**2*(math.cos(th)) + math.sqrt(n**2 - (math.sin(th))**2))/(n**2*(math.cos(th)) + math.sqrt(n**2 - (math.sin(th))**2)))**2)/((((math.cos(th)) - math.sqrt(n**2 - (math.sin(th))**2))/((math.cos(th)) + math.sqrt(n**2 - (math.sin(th))**2)))**2))) + ph - angles[5]))**2 - I[5]\n",
    "    )\n",
    "\n",
    "def system1 (p, *args):\n",
    "    angles = [0, pi/6, pi/3, pi/2, 2*pi/3, 5*pi/6]\n",
    "    ph, th, n = p\n",
    "    I = args[0]\n",
    "#     print (I)\n",
    "    thmap = int(math.floor(th*xmap.shape[0]/(pi/2+0.1)))\n",
    "    phmap = int(math.floor((ph+pi)*xmap.shape[1]/(2*pi+0.1)))\n",
    "    if (0<thmap<200) and (0<phmap<200):\n",
    "        x = int(xmap[thmap,phmap])\n",
    "        y = int(ymap[thmap,phmap])\n",
    "    else:\n",
    "        x = y = 0\n",
    "    Iup = Iups[y,x]\n",
    "    Ip = Ips[y,x]\n",
    "    ps = psis[y,x]\n",
    "#     if 1.5<n<1.7:\n",
    "#         return(100,100,100,100,100,100)\n",
    "    n2 = n**2\n",
    "    if n2 < 1:\n",
    "        n2 = n2 + 1\n",
    "    Ip = 0\n",
    "    ps = 0\n",
    "    sps2 = (math.sin(ps))**2\n",
    "    cps2 = (math.cos(ps))**2\n",
    "    tps = math.tan(ps)\n",
    "    cth = math.cos(th)\n",
    "    sth = math.sin(th)\n",
    "#     print (n2, sth)\n",
    "    Rs = ((cth - math.sqrt(n2 - sth**2))/(cth + math.sqrt(n2 - sth**2)))**2\n",
    "    Rp = ((-n2*cth + math.sqrt(n2 - sth**2))/(n2*cth + math.sqrt(n2 - sth**2)))**2\n",
    "#     print (I)\n",
    "    return (\n",
    "        (Iup/2) * (Rs*(math.sin(ph - angles[0]))**2 + Rp*(1 - (math.sin(ph - angles[0]))**2)) + Ip*(Rp*cps2 + Rs*sps2)*(math.cos(math.atan(tps*math.sqrt(Rp/Rs)) + ph - angles[0]))**2 - I[0],\n",
    "        (Iup/2) * (Rs*(math.sin(ph - angles[1]))**2 + Rp*(1 - (math.sin(ph - angles[1]))**2)) + Ip*(Rp*cps2 + Rs*sps2)*(math.cos(math.atan(tps*math.sqrt(Rp/Rs)) + ph - angles[1]))**2 - I[1],\n",
    "        (Iup/2) * (Rs*(math.sin(ph - angles[2]))**2 + Rp*(1 - (math.sin(ph - angles[2]))**2)) + Ip*(Rp*cps2 + Rs*sps2)*(math.cos(math.atan(tps*math.sqrt(Rp/Rs)) + ph - angles[2]))**2 - I[2],\n",
    "        (Iup/2) * (Rs*(math.sin(ph - angles[3]))**2 + Rp*(1 - (math.sin(ph - angles[3]))**2)) + Ip*(Rp*cps2 + Rs*sps2)*(math.cos(math.atan(tps*math.sqrt(Rp/Rs)) + ph - angles[3]))**2 - I[3],\n",
    "        (Iup/2) * (Rs*(math.sin(ph - angles[4]))**2 + Rp*(1 - (math.sin(ph - angles[4]))**2)) + Ip*(Rp*cps2 + Rs*sps2)*(math.cos(math.atan(tps*math.sqrt(Rp/Rs)) + ph - angles[4]))**2 - I[4],\n",
    "        (Iup/2) * (Rs*(math.sin(ph - angles[5]))**2 + Rp*(1 - (math.sin(ph - angles[5]))**2)) + Ip*(Rp*cps2 + Rs*sps2)*(math.cos(math.atan(tps*math.sqrt(Rp/Rs)) + ph - angles[5]))**2 - I[5],\n",
    "        n2 - 2.56\n",
    "    )"
   ]
  },
  {
   "cell_type": "code",
   "execution_count": 44,
   "metadata": {},
   "outputs": [],
   "source": [
    "xmap = fill_with_neasest(xmap)\n",
    "ymap = fill_with_neasest(ymap)"
   ]
  },
  {
   "cell_type": "code",
   "execution_count": 9,
   "metadata": {},
   "outputs": [],
   "source": [
    "# going through all angles and ns\n",
    "y = 210\n",
    "x = 310\n",
    "ph = phis0[y,x]\n",
    "th = thetas0[y,x]\n",
    "n = 1.6\n",
    "I = Is[y,x,:].flatten()\n",
    "\n",
    "res = np.zeros((400, 400, 10))\n",
    "\n",
    "nl = 1\n",
    "for ll in range (0, 10):\n",
    "    nl += 0.1\n",
    "    psj = -pi\n",
    "    for ii in range(0,400):\n",
    "        psj += 2*pi/400\n",
    "        thj = 0\n",
    "        for jj in range(0,400):\n",
    "            thj += (pi/2)/400\n",
    "            res1 = system((psj, thj, nl), (I))\n",
    "            res1 = [abs(xx) for xx in res1]\n",
    "            res[ii, jj, ll] = sum(res1)\n",
    "        "
   ]
  },
  {
   "cell_type": "code",
   "execution_count": 39,
   "metadata": {},
   "outputs": [],
   "source": [
    "# going through all angles with fixed n\n",
    "y = 210\n",
    "x = 310\n",
    "ph = phis0[y,x]\n",
    "th = thetas0[y,x]\n",
    "n = 1.6\n",
    "I = Is[y,x,:].flatten()\n",
    "sz = 1000\n",
    "\n",
    "res = np.zeros((sz, sz))\n",
    "\n",
    "psj = -pi\n",
    "for ii in range(0,sz):\n",
    "    psj += 2*pi/sz\n",
    "    thj = 0\n",
    "    for jj in range(0,sz):\n",
    "        thj += (pi/2)/sz\n",
    "        res1 = system((psj, thj, n), (I))\n",
    "        res1 = [abs(xx) for xx in res1]\n",
    "        res[ii, jj] = sum(res1)\n",
    "        "
   ]
  },
  {
   "cell_type": "code",
   "execution_count": 55,
   "metadata": {},
   "outputs": [
    {
     "name": "stdout",
     "output_type": "stream",
     "text": [
      "(961, 116) 0.004989580243199069\n",
      "(2.8965484266097894, 0.18221237390820802)\n",
      "0.5793647149459809 0.7289382015272396\n",
      "(580, 435) 0.12001362055477466\n"
     ]
    }
   ],
   "source": [
    "ind = np.unravel_index(np.argmin(res, axis=None), res.shape)\n",
    "print(ind, res[ind])\n",
    "print (indtoangle(ind[0], ind[1]))\n",
    "print (ph,th)\n",
    "ff = angletoind(ph,th)\n",
    "print (ff, res[ff[0], ff[1]])"
   ]
  },
  {
   "cell_type": "code",
   "execution_count": 48,
   "metadata": {},
   "outputs": [
    {
     "data": {
      "text/plain": [
       "(200, 200)"
      ]
     },
     "execution_count": 48,
     "metadata": {},
     "output_type": "execute_result"
    }
   ],
   "source": [
    "xmap.shape"
   ]
  },
  {
   "cell_type": "code",
   "execution_count": 62,
   "metadata": {},
   "outputs": [
    {
     "data": {
      "image/png": "[encoded data removed]",
      "text/plain": [
       "<matplotlib.figure.Figure at 0x7f5fa1db4048>"
      ]
     },
     "metadata": {},
     "output_type": "display_data"
    }
   ],
   "source": [
    "plt.figure(figsize=(10,10))\n",
    "plt.imshow(res)\n",
    "plt.colorbar()\n",
    "plt.clim(0,0.005)\n",
    "plt.show()"
   ]
  },
  {
   "cell_type": "code",
   "execution_count": null,
   "metadata": {},
   "outputs": [],
   "source": [
    "y = 300\n",
    "x = 250\n",
    "ph = phis0[y,x]\n",
    "th = thetas0[y,x]\n",
    "th0 = 0.9\n",
    "ph0 = 1.1\n",
    "n = 1.6\n",
    "I = Is[y,x,:].flatten()\n",
    "\n",
    "sol = root(system1, (ph0, th0, 1.6), args=(I), method='lm', tol=0.000001)\n",
    "print (sol.x[0], th, sol.x[2], system1((sol.x[0], sol.x[1], sol.x[2]),(I)))\n",
    "print (ph, th, n, system1((ph, th, n),(I)))"
   ]
  },
  {
   "cell_type": "code",
   "execution_count": null,
   "metadata": {},
   "outputs": [],
   "source": [
    "ph = 1.1\n",
    "th = 0.9\n",
    "phis = np.zeros((ymax,xmax))\n",
    "thetas = np.zeros((ymax,xmax))\n",
    "ns = np.zeros((ymax,xmax))\n",
    "for y in range(0, 500):\n",
    "    if y%100 == 0:\n",
    "        print (\"y =\", y)\n",
    "    for x in range (0, 500):\n",
    "        if np.isnan(dm[y,x]):\n",
    "            continue\n",
    "\n",
    "        I = Is[y,x,:].flatten()\n",
    "        sol = root(system1, (1.1, 0.9, 1.6), args=(I), method='lm', tol=0.00001)\n",
    "            \n",
    "        ph = pied(sol.x[0])\n",
    "        th = pi2ed(sol.x[1])\n",
    "        phis[y,x] = sol.x[0]\n",
    "        thetas[y,x] = sol.x[1]\n",
    "        ns[y,x] = sol.x[2]\n",
    "        ress = system1((sol.x[0], sol.x[1], sol.x[2]), (I))\n",
    "        ress1 = [abs(xx) for xx in ress]\n",
    "#         print (sum(ress1), sol.x[2])"
   ]
  },
  {
   "cell_type": "code",
   "execution_count": null,
   "metadata": {},
   "outputs": [],
   "source": [
    "res1 = system1((1.5796033696071434, 0.9459872649068347, 1.997700058230306), (I))\n",
    "# print (ph, th)\n",
    "print (res1)\n",
    "res1 = [abs(xx) for xx in res1]\n",
    "res0 = sum(res1)\n",
    "print (\"real =\", res0)"
   ]
  },
  {
   "cell_type": "code",
   "execution_count": null,
   "metadata": {},
   "outputs": [],
   "source": [
    "phsh = -pi + 375*2*pi/1000\n",
    "thsh = 823*pi/(2*1000)\n",
    "print (phsh, thsh)\n",
    "res1 = system((phsh, thsh, 1.6))\n",
    "print (res1)"
   ]
  },
  {
   "cell_type": "code",
   "execution_count": null,
   "metadata": {},
   "outputs": [],
   "source": [
    "phsh = -pi + 592*2*pi/1000\n",
    "thsh = 464*pi/(2*1000)\n",
    "print (phsh, thsh)\n",
    "res1 = system((phsh, thsh, 1.6))\n",
    "print (res1)"
   ]
  },
  {
   "cell_type": "code",
   "execution_count": null,
   "metadata": {},
   "outputs": [],
   "source": [
    "# res[ind] = 1\n",
    "thetas[250,249]"
   ]
  },
  {
   "cell_type": "code",
   "execution_count": null,
   "metadata": {},
   "outputs": [],
   "source": [
    "plt.figure(figsize=(20,20))\n",
    "plt.imshow(phis)\n",
    "plt.colorbar()\n",
    "plt.clim(-pi,pi)\n",
    "plt.show()\n",
    "\n",
    "\n",
    "# 75*(pi/2+0.1)/100"
   ]
  },
  {
   "cell_type": "code",
   "execution_count": null,
   "metadata": {},
   "outputs": [],
   "source": [
    "pi"
   ]
  },
  {
   "cell_type": "markdown",
   "metadata": {},
   "source": [
    "### I get wrong minimum with 0 value. find the reason. "
   ]
  },
  {
   "cell_type": "markdown",
   "metadata": {},
   "source": [
    "Unfortunately, the method generates faulty mins. On the example above (50, 70) is the minimum, although not the correct one. And correct one won't appear, because 1 pixel error in remapping make it bigger than phantom min. This can be fixed in the simulation but won't work stable in the actual system."
   ]
  },
  {
   "cell_type": "code",
   "execution_count": null,
   "metadata": {},
   "outputs": [],
   "source": [
    "Run tests with:\n",
    "    ps = 0\n",
    "    Ip = 0\n",
    "    \n",
    "and see if I get classic results"
   ]
  },
  {
   "cell_type": "code",
   "execution_count": null,
   "metadata": {},
   "outputs": [],
   "source": [
    "Is = data['I']\n",
    "Iups = data['Iups']\n",
    "Ips = data['Ips']\n",
    "psis = data['psis']\n",
    "xmap = data['xmap']\n",
    "ymap = data['ymap']\n",
    "phis0 = data['phis']\n",
    "thetas0 = data['thetas']\n",
    "dm = data['dm']"
   ]
  },
  {
   "cell_type": "code",
   "execution_count": 150,
   "metadata": {},
   "outputs": [
    {
     "data": {
      "image/png": "[encoded data removed]",
      "text/plain": [
       "<matplotlib.figure.Figure at 0x7f9cc30ef048>"
      ]
     },
     "metadata": {},
     "output_type": "display_data"
    }
   ],
   "source": [
    "plt.figure(figsize=(10,10))\n",
    "plt.imshow(I[:,:,1])\n",
    "plt.colorbar()\n",
    "plt.clim(0,1)\n",
    "plt.show()"
   ]
  },
  {
   "cell_type": "code",
   "execution_count": 139,
   "metadata": {},
   "outputs": [],
   "source": [
    "I[311,303,1] = 10"
   ]
  },
  {
   "cell_type": "code",
   "execution_count": null,
   "metadata": {},
   "outputs": [],
   "source": []
  }
 ],
 "metadata": {
  "kernelspec": {
   "display_name": "Python 3",
   "language": "python",
   "name": "python3"
  },
  "language_info": {
   "codemirror_mode": {
    "name": "ipython",
    "version": 3
   },
   "file_extension": ".py",
   "mimetype": "text/x-python",
   "name": "python",
   "nbconvert_exporter": "python",
   "pygments_lexer": "ipython3",
   "version": "3.6.4"
  }
 },
 "nbformat": 4,
 "nbformat_minor": 2
}
