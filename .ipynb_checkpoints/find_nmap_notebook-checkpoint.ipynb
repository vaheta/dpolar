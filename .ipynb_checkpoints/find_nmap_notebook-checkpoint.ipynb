{
 "cells": [
  {
   "cell_type": "code",
   "execution_count": 38,
   "metadata": {},
   "outputs": [],
   "source": [
    "import math\n",
    "import numpy as np\n",
    "import matplotlib.pyplot as plt\n",
    "import scipy.io as spio\n",
    "from scipy.optimize import fsolve, root\n",
    "import copy\n",
    "\n",
    "pi = math.pi\n",
    "\n",
    "def pied (x):\n",
    "    while x>pi:\n",
    "        x -= pi\n",
    "    return (x)\n",
    "\n",
    "def pi2ed (x):\n",
    "    while x>pi/2:\n",
    "        x -= pi/2\n",
    "    return (x)\n",
    "\n",
    "data = np.load(\"sphere_render/meas_simulation.npz\")\n",
    "Is = data['I']\n",
    "Iups = data['Iups']\n",
    "Ips = data['Ips']\n",
    "psis = data['psis']\n",
    "xmap = data['xmap']\n",
    "ymap = data['ymap']\n",
    "phis0 = data['phis']\n",
    "thetas0 = data['thetas']\n",
    "dm = data['dm']\n",
    "\n",
    "ymax, xmax, imax = Is.shape\n",
    "\n",
    "phis = np.zeros((ymax,xmax))\n",
    "thetas = np.zeros((ymax,xmax))\n",
    "ns = np.zeros((ymax,xmax))\n",
    "\n",
    "ph = 1\n",
    "th = 1\n",
    "n = 1.6\n",
    "kol = 0\n",
    "fal = 0\n",
    "\n",
    "def nearest_nonzero_idx(a,x,y):\n",
    "    idx = np.argwhere(a)\n",
    "    return idx[((idx - [x,y])**2).sum(1).argmin()]\n",
    "\n",
    "def fill_with_neasest(ymap):\n",
    "    a = copy.deepcopy(ymap)\n",
    "    for y in range (0, ymap.shape[0]):\n",
    "        for x in range(0,ymap.shape[0]):\n",
    "            if a[y,x] == 0:\n",
    "                y1, x1 = nearest_nonzero_idx(a, y, x)\n",
    "                a[y,x] = a[y1,x1]\n",
    "    return a\n",
    "\n"
   ]
  },
  {
   "cell_type": "code",
   "execution_count": 114,
   "metadata": {},
   "outputs": [],
   "source": [
    "def system (p, *args):\n",
    "    angles = [0, pi/6, pi/3, pi/2, 2*pi/3, 5*pi/6]\n",
    "    ph, th, n = p\n",
    "    I = args\n",
    "    thmap = int(math.floor(th*xmap.shape[0]/(pi/2+0.1)))\n",
    "    phmap = int(math.floor((ph+pi)*xmap.shape[1]/(2*pi+0.1)))\n",
    "    if (0<thmap<200) and (0<phmap<200):\n",
    "        x = int(xmap[thmap,phmap])\n",
    "        y = int(ymap[thmap,phmap])\n",
    "    else:\n",
    "        x = y = 0\n",
    "#     plt.imshow(psis)\n",
    "#     plt.colorbar()\n",
    "#     plt.show()\n",
    "#     print (y, x)\n",
    "#     y = 310\n",
    "#     x = 310\n",
    "    Iup = Iups[y,x]\n",
    "    Ip = Ips[y,x]\n",
    "    ps = psis[y,x]\n",
    "    I = Is[y,x,:].flatten()\n",
    "#     print (Iup, Ip, ps, I)\n",
    "#     if (Iup==0) or (Ip == 0):\n",
    "#         return (100, 100, 100, 100, 100, 100)\n",
    "    return (\n",
    "        (Iup/2) * (((((math.cos(th)) - math.sqrt(n**2 - (math.sin(th))**2))/((math.cos(th)) + math.sqrt(n**2 - (math.sin(th))**2)))**2)*(math.sin(ph - angles[0]))**2 + (((-n**2*(math.cos(th)) + math.sqrt(n**2 - (math.sin(th))**2))/(n**2*(math.cos(th)) + math.sqrt(n**2 - (math.sin(th))**2)))**2)*(1 - (math.sin(ph - angles[0]))**2)) + Ip*((((-n**2*(math.cos(th)) + math.sqrt(n**2 - (math.sin(th))**2))/(n**2*(math.cos(th)) + math.sqrt(n**2 - (math.sin(th))**2)))**2)*((math.cos(ps))**2) + ((((math.cos(th)) - math.sqrt(n**2 - (math.sin(th))**2))/((math.cos(th)) + math.sqrt(n**2 - (math.sin(th))**2)))**2)*((math.sin(ps))**2))*(math.cos(math.atan((math.tan(ps))*math.sqrt((((-n**2*(math.cos(th)) + math.sqrt(n**2 - (math.sin(th))**2))/(n**2*(math.cos(th)) + math.sqrt(n**2 - (math.sin(th))**2)))**2)/((((math.cos(th)) - math.sqrt(n**2 - (math.sin(th))**2))/((math.cos(th)) + math.sqrt(n**2 - (math.sin(th))**2)))**2))) + ph - angles[0]))**2 - I[0],\n",
    "        (Iup/2) * (((((math.cos(th)) - math.sqrt(n**2 - (math.sin(th))**2))/((math.cos(th)) + math.sqrt(n**2 - (math.sin(th))**2)))**2)*(math.sin(ph - angles[1]))**2 + (((-n**2*(math.cos(th)) + math.sqrt(n**2 - (math.sin(th))**2))/(n**2*(math.cos(th)) + math.sqrt(n**2 - (math.sin(th))**2)))**2)*(1 - (math.sin(ph - angles[1]))**2)) + Ip*((((-n**2*(math.cos(th)) + math.sqrt(n**2 - (math.sin(th))**2))/(n**2*(math.cos(th)) + math.sqrt(n**2 - (math.sin(th))**2)))**2)*((math.cos(ps))**2) + ((((math.cos(th)) - math.sqrt(n**2 - (math.sin(th))**2))/((math.cos(th)) + math.sqrt(n**2 - (math.sin(th))**2)))**2)*((math.sin(ps))**2))*(math.cos(math.atan((math.tan(ps))*math.sqrt((((-n**2*(math.cos(th)) + math.sqrt(n**2 - (math.sin(th))**2))/(n**2*(math.cos(th)) + math.sqrt(n**2 - (math.sin(th))**2)))**2)/((((math.cos(th)) - math.sqrt(n**2 - (math.sin(th))**2))/((math.cos(th)) + math.sqrt(n**2 - (math.sin(th))**2)))**2))) + ph - angles[1]))**2 - I[1],\n",
    "        (Iup/2) * (((((math.cos(th)) - math.sqrt(n**2 - (math.sin(th))**2))/((math.cos(th)) + math.sqrt(n**2 - (math.sin(th))**2)))**2)*(math.sin(ph - angles[2]))**2 + (((-n**2*(math.cos(th)) + math.sqrt(n**2 - (math.sin(th))**2))/(n**2*(math.cos(th)) + math.sqrt(n**2 - (math.sin(th))**2)))**2)*(1 - (math.sin(ph - angles[2]))**2)) + Ip*((((-n**2*(math.cos(th)) + math.sqrt(n**2 - (math.sin(th))**2))/(n**2*(math.cos(th)) + math.sqrt(n**2 - (math.sin(th))**2)))**2)*((math.cos(ps))**2) + ((((math.cos(th)) - math.sqrt(n**2 - (math.sin(th))**2))/((math.cos(th)) + math.sqrt(n**2 - (math.sin(th))**2)))**2)*((math.sin(ps))**2))*(math.cos(math.atan((math.tan(ps))*math.sqrt((((-n**2*(math.cos(th)) + math.sqrt(n**2 - (math.sin(th))**2))/(n**2*(math.cos(th)) + math.sqrt(n**2 - (math.sin(th))**2)))**2)/((((math.cos(th)) - math.sqrt(n**2 - (math.sin(th))**2))/((math.cos(th)) + math.sqrt(n**2 - (math.sin(th))**2)))**2))) + ph - angles[2]))**2 - I[2],\n",
    "        (Iup/2) * (((((math.cos(th)) - math.sqrt(n**2 - (math.sin(th))**2))/((math.cos(th)) + math.sqrt(n**2 - (math.sin(th))**2)))**2)*(math.sin(ph - angles[3]))**2 + (((-n**2*(math.cos(th)) + math.sqrt(n**2 - (math.sin(th))**2))/(n**2*(math.cos(th)) + math.sqrt(n**2 - (math.sin(th))**2)))**2)*(1 - (math.sin(ph - angles[3]))**2)) + Ip*((((-n**2*(math.cos(th)) + math.sqrt(n**2 - (math.sin(th))**2))/(n**2*(math.cos(th)) + math.sqrt(n**2 - (math.sin(th))**2)))**2)*((math.cos(ps))**2) + ((((math.cos(th)) - math.sqrt(n**2 - (math.sin(th))**2))/((math.cos(th)) + math.sqrt(n**2 - (math.sin(th))**2)))**2)*((math.sin(ps))**2))*(math.cos(math.atan((math.tan(ps))*math.sqrt((((-n**2*(math.cos(th)) + math.sqrt(n**2 - (math.sin(th))**2))/(n**2*(math.cos(th)) + math.sqrt(n**2 - (math.sin(th))**2)))**2)/((((math.cos(th)) - math.sqrt(n**2 - (math.sin(th))**2))/((math.cos(th)) + math.sqrt(n**2 - (math.sin(th))**2)))**2))) + ph - angles[3]))**2 - I[3],\n",
    "        (Iup/2) * (((((math.cos(th)) - math.sqrt(n**2 - (math.sin(th))**2))/((math.cos(th)) + math.sqrt(n**2 - (math.sin(th))**2)))**2)*(math.sin(ph - angles[4]))**2 + (((-n**2*(math.cos(th)) + math.sqrt(n**2 - (math.sin(th))**2))/(n**2*(math.cos(th)) + math.sqrt(n**2 - (math.sin(th))**2)))**2)*(1 - (math.sin(ph - angles[4]))**2)) + Ip*((((-n**2*(math.cos(th)) + math.sqrt(n**2 - (math.sin(th))**2))/(n**2*(math.cos(th)) + math.sqrt(n**2 - (math.sin(th))**2)))**2)*((math.cos(ps))**2) + ((((math.cos(th)) - math.sqrt(n**2 - (math.sin(th))**2))/((math.cos(th)) + math.sqrt(n**2 - (math.sin(th))**2)))**2)*((math.sin(ps))**2))*(math.cos(math.atan((math.tan(ps))*math.sqrt((((-n**2*(math.cos(th)) + math.sqrt(n**2 - (math.sin(th))**2))/(n**2*(math.cos(th)) + math.sqrt(n**2 - (math.sin(th))**2)))**2)/((((math.cos(th)) - math.sqrt(n**2 - (math.sin(th))**2))/((math.cos(th)) + math.sqrt(n**2 - (math.sin(th))**2)))**2))) + ph - angles[4]))**2 - I[4],\n",
    "        (Iup/2) * (((((math.cos(th)) - math.sqrt(n**2 - (math.sin(th))**2))/((math.cos(th)) + math.sqrt(n**2 - (math.sin(th))**2)))**2)*(math.sin(ph - angles[5]))**2 + (((-n**2*(math.cos(th)) + math.sqrt(n**2 - (math.sin(th))**2))/(n**2*(math.cos(th)) + math.sqrt(n**2 - (math.sin(th))**2)))**2)*(1 - (math.sin(ph - angles[5]))**2)) + Ip*((((-n**2*(math.cos(th)) + math.sqrt(n**2 - (math.sin(th))**2))/(n**2*(math.cos(th)) + math.sqrt(n**2 - (math.sin(th))**2)))**2)*((math.cos(ps))**2) + ((((math.cos(th)) - math.sqrt(n**2 - (math.sin(th))**2))/((math.cos(th)) + math.sqrt(n**2 - (math.sin(th))**2)))**2)*((math.sin(ps))**2))*(math.cos(math.atan((math.tan(ps))*math.sqrt((((-n**2*(math.cos(th)) + math.sqrt(n**2 - (math.sin(th))**2))/(n**2*(math.cos(th)) + math.sqrt(n**2 - (math.sin(th))**2)))**2)/((((math.cos(th)) - math.sqrt(n**2 - (math.sin(th))**2))/((math.cos(th)) + math.sqrt(n**2 - (math.sin(th))**2)))**2))) + ph - angles[5]))**2 - I[5]\n",
    "    )\n",
    "\n",
    "def system1 (p, *args):\n",
    "    angles = [0, pi/6, pi/3, pi/2, 2*pi/3, 5*pi/6]\n",
    "    ph, th, n = p\n",
    "    I = args[0]\n",
    "#     print (I)\n",
    "    thmap = int(math.floor(th*xmap.shape[0]/(pi/2+0.1)))\n",
    "    phmap = int(math.floor((ph+pi)*xmap.shape[1]/(2*pi+0.1)))\n",
    "    if (0<thmap<200) and (0<phmap<200):\n",
    "        x = int(xmap[thmap,phmap])\n",
    "        y = int(ymap[thmap,phmap])\n",
    "    else:\n",
    "        x = y = 0\n",
    "    Iup = Iups[y,x]\n",
    "    Ip = Ips[y,x]\n",
    "    ps = psis[y,x]\n",
    "#     if 1.5<n<1.7:\n",
    "#         return(100,100,100,100,100,100)\n",
    "    n2 = n**2\n",
    "    if n2 < 1:\n",
    "        n2 = n2 + 1\n",
    "    sps2 = (math.sin(ps))**2\n",
    "    cps2 = (math.cos(ps))**2\n",
    "    tps = math.tan(ps)\n",
    "    cth = math.cos(th)\n",
    "    sth = math.sin(th)\n",
    "#     print (n2, sth)\n",
    "    Rs = ((cth - math.sqrt(n2 - sth**2))/(cth + math.sqrt(n2 - sth**2)))**2\n",
    "    Rp = ((-n2*cth + math.sqrt(n2 - sth**2))/(n2*cth + math.sqrt(n2 - sth**2)))**2\n",
    "#     print (I)\n",
    "    return (\n",
    "        (Iup/2) * (Rs*(math.sin(ph - angles[0]))**2 + Rp*(1 - (math.sin(ph - angles[0]))**2)) + Ip*(Rp*cps2 + Rs*sps2)*(math.cos(math.atan(tps*math.sqrt(Rp/Rs)) + ph - angles[0]))**2 - I[0],\n",
    "        (Iup/2) * (Rs*(math.sin(ph - angles[1]))**2 + Rp*(1 - (math.sin(ph - angles[1]))**2)) + Ip*(Rp*cps2 + Rs*sps2)*(math.cos(math.atan(tps*math.sqrt(Rp/Rs)) + ph - angles[1]))**2 - I[1],\n",
    "        (Iup/2) * (Rs*(math.sin(ph - angles[2]))**2 + Rp*(1 - (math.sin(ph - angles[2]))**2)) + Ip*(Rp*cps2 + Rs*sps2)*(math.cos(math.atan(tps*math.sqrt(Rp/Rs)) + ph - angles[2]))**2 - I[2],\n",
    "        (Iup/2) * (Rs*(math.sin(ph - angles[3]))**2 + Rp*(1 - (math.sin(ph - angles[3]))**2)) + Ip*(Rp*cps2 + Rs*sps2)*(math.cos(math.atan(tps*math.sqrt(Rp/Rs)) + ph - angles[3]))**2 - I[3],\n",
    "        (Iup/2) * (Rs*(math.sin(ph - angles[4]))**2 + Rp*(1 - (math.sin(ph - angles[4]))**2)) + Ip*(Rp*cps2 + Rs*sps2)*(math.cos(math.atan(tps*math.sqrt(Rp/Rs)) + ph - angles[4]))**2 - I[4],\n",
    "        (Iup/2) * (Rs*(math.sin(ph - angles[5]))**2 + Rp*(1 - (math.sin(ph - angles[5]))**2)) + Ip*(Rp*cps2 + Rs*sps2)*(math.cos(math.atan(tps*math.sqrt(Rp/Rs)) + ph - angles[5]))**2 - I[5],\n",
    "        n2 - 2.56\n",
    "    )"
   ]
  },
  {
   "cell_type": "code",
   "execution_count": 40,
   "metadata": {},
   "outputs": [],
   "source": [
    "xmap = fill_with_neasest(xmap)\n",
    "ymap = fill_with_neasest(ymap)"
   ]
  },
  {
   "cell_type": "code",
   "execution_count": 87,
   "metadata": {},
   "outputs": [],
   "source": [
    "y = 210\n",
    "x = 310\n",
    "ph = phis0[y,x]\n",
    "th = thetas0[y,x]\n",
    "n = 1.2189968380464233\n",
    "I = Is[y,x,:].flatten()\n",
    "\n",
    "res = np.zeros((400, 400, 10))\n",
    "\n",
    "nl = 1\n",
    "for ll in range (0, 10):\n",
    "    nl += 0.1\n",
    "    psj = -pi\n",
    "    for ii in range(0,400):\n",
    "        psj += 2*pi/400\n",
    "        thj = 0\n",
    "        for jj in range(0,400):\n",
    "            thj += (pi/2)/400\n",
    "            res1 = system1((psj, thj, nl), (I))\n",
    "            res1 = [abs(xx) for xx in res1]\n",
    "            res[ii, jj, ll] = sum(res1)\n",
    "        "
   ]
  },
  {
   "cell_type": "code",
   "execution_count": 78,
   "metadata": {},
   "outputs": [
    {
     "name": "stdout",
     "output_type": "stream",
     "text": [
      "1.5796033696071434 0.9459872649068347 1.997700058230306\n",
      "-1.56198928398265 0.5078590739017359\n"
     ]
    }
   ],
   "source": [
    "y = 300\n",
    "x = 250\n",
    "ph = phis0[y,x]\n",
    "th = thetas0[y,x]\n",
    "th0 = 0.9\n",
    "ph0 = 1.1\n",
    "n = 1.6\n",
    "I = Is[y,x,:].flatten()\n",
    "\n",
    "sol = root(system1, (ph0, th0, 1.6), args=(I), method='lm', tol=0.00001)\n",
    "print (sol.x[0], sol.x[1], sol.x[2])\n",
    "print (ph, th)"
   ]
  },
  {
   "cell_type": "code",
   "execution_count": 116,
   "metadata": {},
   "outputs": [
    {
     "name": "stdout",
     "output_type": "stream",
     "text": [
      "y = 0\n",
      "y = 100\n",
      "y = 200\n",
      "y = 300\n",
      "y = 400\n"
     ]
    }
   ],
   "source": [
    "ph = 1.1\n",
    "th = 0.9\n",
    "phis = np.zeros((ymax,xmax))\n",
    "thetas = np.zeros((ymax,xmax))\n",
    "ns = np.zeros((ymax,xmax))\n",
    "for y in range(0, 500):\n",
    "    if y%100 == 0:\n",
    "        print (\"y =\", y)\n",
    "    for x in range (0, 500):\n",
    "        if np.isnan(dm[y,x]):\n",
    "            continue\n",
    "\n",
    "        I = Is[y,x,:].flatten()\n",
    "        sol = root(system1, (1.1, 0.9, 1.6), args=(I), method='lm', tol=0.00001)\n",
    "            \n",
    "        ph = pied(sol.x[0])\n",
    "        th = pi2ed(sol.x[1])\n",
    "        phis[y,x] = sol.x[0]\n",
    "        thetas[y,x] = sol.x[1]\n",
    "        ns[y,x] = sol.x[2]\n",
    "        ress = system1((sol.x[0], sol.x[1], sol.x[2]), (I))\n",
    "        ress1 = [abs(xx) for xx in ress]\n",
    "#         print (sum(ress1), sol.x[2])"
   ]
  },
  {
   "cell_type": "code",
   "execution_count": 79,
   "metadata": {},
   "outputs": [
    {
     "name": "stdout",
     "output_type": "stream",
     "text": [
      "(-5.551115123125783e-17, -5.551115123125783e-17, -6.938893903907228e-18, -6.938893903907228e-18, -2.7755575615628914e-17, -6.938893903907228e-17)\n",
      "real = 2.220446049250313e-16\n"
     ]
    }
   ],
   "source": [
    "res1 = system1((1.5796033696071434, 0.9459872649068347, 1.997700058230306), (I))\n",
    "# print (ph, th)\n",
    "print (res1)\n",
    "res1 = [abs(xx) for xx in res1]\n",
    "res0 = sum(res1)\n",
    "print (\"real =\", res0)"
   ]
  },
  {
   "cell_type": "code",
   "execution_count": null,
   "metadata": {},
   "outputs": [],
   "source": [
    "phsh = -pi + 375*2*pi/1000\n",
    "thsh = 823*pi/(2*1000)\n",
    "print (phsh, thsh)\n",
    "res1 = system((phsh, thsh, 1.6))\n",
    "print (res1)"
   ]
  },
  {
   "cell_type": "code",
   "execution_count": 52,
   "metadata": {},
   "outputs": [
    {
     "name": "stdout",
     "output_type": "stream",
     "text": [
      "0.578053048260522 0.7288494956328321\n",
      "(-3.198412622840846e-05, 4.921602987727203e-06, 3.734043946936744e-05, 3.285354673487895e-05, -4.0521824812567164e-06, -3.647101896291083e-05)\n"
     ]
    }
   ],
   "source": [
    "phsh = -pi + 592*2*pi/1000\n",
    "thsh = 464*pi/(2*1000)\n",
    "print (phsh, thsh)\n",
    "res1 = system((phsh, thsh, 1.6))\n",
    "print (res1)"
   ]
  },
  {
   "cell_type": "code",
   "execution_count": 51,
   "metadata": {},
   "outputs": [
    {
     "name": "stdout",
     "output_type": "stream",
     "text": [
      "(591, 463) 0.00014762291686119464\n"
     ]
    }
   ],
   "source": [
    "ind = np.unravel_index(np.argmin(res, axis=None), res.shape)\n",
    "print(ind, res[ind])"
   ]
  },
  {
   "cell_type": "code",
   "execution_count": 65,
   "metadata": {},
   "outputs": [
    {
     "data": {
      "text/plain": [
       "1.559194009299856"
      ]
     },
     "execution_count": 65,
     "metadata": {},
     "output_type": "execute_result"
    }
   ],
   "source": [
    "# res[ind] = 1\n",
    "thetas[250,249]"
   ]
  },
  {
   "cell_type": "code",
   "execution_count": 119,
   "metadata": {},
   "outputs": [
    {
     "data": {
      "image/png": "[encoded data removed]",
      "text/plain": [
       "<matplotlib.figure.Figure at 0x181590e550>"
      ]
     },
     "metadata": {},
     "output_type": "display_data"
    }
   ],
   "source": [
    "plt.figure(figsize=(20,20))\n",
    "plt.imshow(phis)\n",
    "plt.colorbar()\n",
    "plt.clim(0,2)\n",
    "plt.show()\n",
    "\n",
    "\n",
    "# 75*(pi/2+0.1)/100"
   ]
  },
  {
   "cell_type": "code",
   "execution_count": 20,
   "metadata": {},
   "outputs": [
    {
     "data": {
      "text/plain": [
       "3.141592653589793"
      ]
     },
     "execution_count": 20,
     "metadata": {},
     "output_type": "execute_result"
    }
   ],
   "source": [
    "pi"
   ]
  },
  {
   "cell_type": "markdown",
   "metadata": {},
   "source": [
    "### I get wrong minimum with 0 value. find the reason. "
   ]
  },
  {
   "cell_type": "markdown",
   "metadata": {},
   "source": [
    "Unfortunately, the method generates faulty mins. On the example above (50, 70) is the minimum, although not the correct one. And correct one won't appear, because 1 pixel error in remapping make it bigger than phantom min. This can be fixed in the simulation but won't work stable in the actual system."
   ]
  },
  {
   "cell_type": "code",
   "execution_count": null,
   "metadata": {},
   "outputs": [],
   "source": [
    "Run tests with:\n",
    "    ps = 0\n",
    "    Ip = 0\n",
    "    \n",
    "and see if I get classic results"
   ]
  },
  {
   "cell_type": "code",
   "execution_count": null,
   "metadata": {},
   "outputs": [],
   "source": [
    "Is = data['I']\n",
    "Iups = data['Iups']\n",
    "Ips = data['Ips']\n",
    "psis = data['psis']\n",
    "xmap = data['xmap']\n",
    "ymap = data['ymap']\n",
    "phis0 = data['phis']\n",
    "thetas0 = data['thetas']\n",
    "dm = data['dm']"
   ]
  },
  {
   "cell_type": "code",
   "execution_count": 36,
   "metadata": {},
   "outputs": [
    {
     "data": {
      "image/png": "[encoded data removed]",
      "text/plain": [
       "<matplotlib.figure.Figure at 0x18135253c8>"
      ]
     },
     "metadata": {},
     "output_type": "display_data"
    }
   ],
   "source": [
    "plt.figure(figsize=(10,10))\n",
    "plt.imshow(Iups)\n",
    "plt.colorbar()\n",
    "# plt.clim(0,1)\n",
    "plt.show()"
   ]
  },
  {
   "cell_type": "code",
   "execution_count": null,
   "metadata": {},
   "outputs": [],
   "source": []
  }
 ],
 "metadata": {
  "kernelspec": {
   "display_name": "Python 3",
   "language": "python",
   "name": "python3"
  },
  "language_info": {
   "codemirror_mode": {
    "name": "ipython",
    "version": 3
   },
   "file_extension": ".py",
   "mimetype": "text/x-python",
   "name": "python",
   "nbconvert_exporter": "python",
   "pygments_lexer": "ipython3",
   "version": "3.6.4"
  }
 },
 "nbformat": 4,
 "nbformat_minor": 2
}
